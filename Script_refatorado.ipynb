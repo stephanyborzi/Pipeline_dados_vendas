{
  "cells": [
    {
      "cell_type": "markdown",
      "metadata": {
        "id": "view-in-github",
        "colab_type": "text"
      },
      "source": [
        "<a href=\"https://colab.research.google.com/github/stephanyborzi/Pipeline_dados_vendas/blob/main/Script_refatorado.ipynb\" target=\"_parent\"><img src=\"https://colab.research.google.com/assets/colab-badge.svg\" alt=\"Open In Colab\"/></a>"
      ]
    },
    {
      "cell_type": "code",
      "source": [
        "import json"
      ],
      "metadata": {
        "id": "OHEf1vfASeza"
      },
      "execution_count": 1,
      "outputs": []
    },
    {
      "cell_type": "code",
      "source": [
        "path_json = '/content/dados_empresaA (1).json'"
      ],
      "metadata": {
        "id": "s-nADUJ5Sha5"
      },
      "execution_count": 2,
      "outputs": []
    },
    {
      "cell_type": "code",
      "source": [
        "def leitura_json(path_json):\n",
        "  dados_json = []\n",
        "  with open(path_json, 'r') as file:\n",
        "    dados_json = json.load(file)\n",
        "  return dados_json"
      ],
      "metadata": {
        "id": "z2IiV4l-SkU0"
      },
      "execution_count": 3,
      "outputs": []
    },
    {
      "cell_type": "code",
      "source": [
        "dados_json = leitura_json(path_json)\n",
        "dados_json[0]"
      ],
      "metadata": {
        "colab": {
          "base_uri": "https://localhost:8080/"
        },
        "id": "ZpWfP6hOS5mM",
        "outputId": "b6ffd3ef-8900-4cce-c6bf-52b7f4ef10c4"
      },
      "execution_count": 4,
      "outputs": [
        {
          "output_type": "execute_result",
          "data": {
            "text/plain": [
              "{'Nome do Produto': 'Blush em pó',\n",
              " 'Categoria do Produto': 'Eletrodomésticos',\n",
              " 'Preço do Produto (R$)': 79.41,\n",
              " 'Quantidade em Estoque': 7,\n",
              " 'Filial': 'Filial 7'}"
            ]
          },
          "metadata": {},
          "execution_count": 4
        }
      ]
    },
    {
      "cell_type": "code",
      "source": [
        "import csv\n",
        "path_csv = '/content/dados_empresaB (1).csv'"
      ],
      "metadata": {
        "id": "ENLBfNsgTK1_"
      },
      "execution_count": 10,
      "outputs": []
    },
    {
      "cell_type": "code",
      "source": [
        "def leitura_csv(path_csv):\n",
        "  dados_csv = []\n",
        "  with open(path_csv, 'r') as file:\n",
        "    spamreader = csv.reader(file, delimiter=',')\n",
        "    for row in spamreader:\n",
        "      dados_csv.append(row)\n",
        "  return dados_csv\n"
      ],
      "metadata": {
        "id": "5ZlY5zBtTUZJ"
      },
      "execution_count": 7,
      "outputs": []
    },
    {
      "cell_type": "code",
      "source": [
        "dados_csv = leitura_csv(path_csv)\n",
        "dados_csv[0]"
      ],
      "metadata": {
        "colab": {
          "base_uri": "https://localhost:8080/"
        },
        "id": "dVOOlVhBTur7",
        "outputId": "96ec60df-e6f8-4e25-9ba5-797df94bdf20"
      },
      "execution_count": 11,
      "outputs": [
        {
          "output_type": "execute_result",
          "data": {
            "text/plain": [
              "['Nome do Item',\n",
              " 'Classificação do Produto',\n",
              " 'Valor em Reais (R$)',\n",
              " 'Quantidade em Estoque',\n",
              " 'Nome da Loja',\n",
              " 'Data da Venda']"
            ]
          },
          "metadata": {},
          "execution_count": 11
        }
      ]
    },
    {
      "cell_type": "code",
      "source": [
        "def leitura_arquivos(path, tipo_arquivo):\n",
        "  dados = []\n",
        "  if tipo_arquivo == 'csv':\n",
        "    dados =  leitura_csv(path)\n",
        "  elif tipo_arquivo == 'json':\n",
        "    dados = leitura_json(path)\n",
        "  return dados"
      ],
      "metadata": {
        "id": "OnHQ2uVgUYoG"
      },
      "execution_count": 14,
      "outputs": []
    },
    {
      "cell_type": "markdown",
      "source": [
        "Iniciando a leitura"
      ],
      "metadata": {
        "id": "ipRnonBfWZpH"
      }
    },
    {
      "cell_type": "code",
      "source": [
        "dados_json = leitura_arquivos(path_json, 'json')\n",
        "dados_json[0]"
      ],
      "metadata": {
        "colab": {
          "base_uri": "https://localhost:8080/"
        },
        "id": "k2RGXYlnVSdB",
        "outputId": "52b4b3b2-9b73-4fcc-e2e2-736f4630f5aa"
      },
      "execution_count": 17,
      "outputs": [
        {
          "output_type": "execute_result",
          "data": {
            "text/plain": [
              "{'Nome do Produto': 'Blush em pó',\n",
              " 'Categoria do Produto': 'Eletrodomésticos',\n",
              " 'Preço do Produto (R$)': 79.41,\n",
              " 'Quantidade em Estoque': 7,\n",
              " 'Filial': 'Filial 7'}"
            ]
          },
          "metadata": {},
          "execution_count": 17
        }
      ]
    },
    {
      "cell_type": "markdown",
      "source": [],
      "metadata": {
        "id": "sP8nQdQPWNUM"
      }
    },
    {
      "cell_type": "code",
      "source": [
        "dados_csv = leitura_arquivos(path_csv, 'csv')\n",
        "dados_csv[0]"
      ],
      "metadata": {
        "colab": {
          "base_uri": "https://localhost:8080/"
        },
        "id": "1LQ4eM3HVjol",
        "outputId": "6d2e9ae2-3962-4340-b8a3-49aa422e7544"
      },
      "execution_count": 16,
      "outputs": [
        {
          "output_type": "execute_result",
          "data": {
            "text/plain": [
              "['Nome do Item',\n",
              " 'Classificação do Produto',\n",
              " 'Valor em Reais (R$)',\n",
              " 'Quantidade em Estoque',\n",
              " 'Nome da Loja',\n",
              " 'Data da Venda']"
            ]
          },
          "metadata": {},
          "execution_count": 16
        }
      ]
    }
  ],
  "metadata": {
    "colab": {
      "name": "Olá, este é o Colaboratory",
      "provenance": [],
      "include_colab_link": true
    },
    "kernelspec": {
      "display_name": "Python 3",
      "name": "python3"
    }
  },
  "nbformat": 4,
  "nbformat_minor": 0
}